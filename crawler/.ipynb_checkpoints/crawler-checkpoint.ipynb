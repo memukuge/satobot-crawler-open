{
 "cells": [
  {
   "cell_type": "code",
   "execution_count": 1,
   "metadata": {},
   "outputs": [],
   "source": [
    "from urllib import request  # urllib.requestモジュールをインポート\n",
    "from bs4 import BeautifulSoup  # BeautifulSoupクラスをインポート\n",
    "\n",
    "url = \"https://atmarkit.itmedia.co.jp/ait/subtop/news/\"\n",
    "response = request.urlopen(url)\n",
    "soup = BeautifulSoup(response)\n",
    "response.close()"
   ]
  },
  {
   "cell_type": "code",
   "execution_count": 11,
   "metadata": {},
   "outputs": [],
   "source": [
    "#soup\n",
    "\n",
    "## soup と実行すると、ソースコードを吐き出してくれる。\n",
    "## そこから、必要な要素を考える。"
   ]
  },
  {
   "cell_type": "code",
   "execution_count": 10,
   "metadata": {},
   "outputs": [
    {
     "name": "stdout",
     "output_type": "stream",
     "text": [
      "サイバートラストが「RHEL 9」を基にした「MIRACLE LINUX 9」を無償で提供\n",
      "https://atmarkit.itmedia.co.jp/ait/articles/2112/17/news040.html\n",
      "Microsoft Research、バグを発見、修正するためのディープラーニングモデル「BugLab」を開発\n",
      "https://atmarkit.itmedia.co.jp/ait/articles/2112/16/news135.html\n",
      "約6割の企業が「従業員のエンゲージメント・帰属意識」に課題を抱えている　エンワールド・ジャパンがリモートワークに関する調査結果発表\n",
      "https://atmarkit.itmedia.co.jp/ait/articles/2112/16/news041.html\n",
      "約半数が「自分は健康だと思わない」と回答　Lboseがフリーランスの健康に関する調査結果を発表\n",
      "https://atmarkit.itmedia.co.jp/ait/articles/2112/15/news046.html\n",
      "GitHubに新しいコード検索機能が登場\n",
      "https://atmarkit.itmedia.co.jp/ait/articles/2112/13/news078.html\n",
      "IPAが「Apache Log4j脆弱性」の暫定回避方法を紹介\n",
      "https://atmarkit.itmedia.co.jp/ait/articles/2112/14/news035.html\n",
      "1位は「デンマーク」　早稲田大学が「世界デジタル政府ランキング2021」を発表\n",
      "https://atmarkit.itmedia.co.jp/ait/articles/2112/13/news039.html\n",
      "4人に1人が「ルール違反と認識しつつ、パスワードを使い回している」　IPAがセキュリティ調査の結果を発表\n",
      "https://atmarkit.itmedia.co.jp/ait/articles/2112/10/news046.html\n",
      "GitHubは開発者の生産性向上に、どの程度役立っているのか\n",
      "https://atmarkit.itmedia.co.jp/ait/articles/2112/09/news137.html\n",
      "最も気になるリモートワークの課題は「運動不足」　paizaがリモートワークに関する調査結果を発表\n",
      "https://atmarkit.itmedia.co.jp/ait/articles/2112/09/news033.html\n",
      "日本、米国、英国の「コロナ禍のセキュリティ対策」の比較結果を発表　SecureAge\n",
      "https://atmarkit.itmedia.co.jp/ait/articles/2112/08/news032.html\n",
      "約6割が「プログラミング学習を始めて3カ月以内に挫折を経験」　initがプログラミング学習に関して調査\n",
      "https://atmarkit.itmedia.co.jp/ait/articles/2112/07/news038.html\n",
      "次のWi-Fiはどうなる？　IoTでの利用拡大を狙う\n",
      "https://atmarkit.itmedia.co.jp/ait/articles/2112/06/news121.html\n",
      "「CAPTCHAを通過した人だけをだます」フィッシングサイトも　Palo Alto Networksが2021年のサイバー攻撃の振り返りを発表\n",
      "https://atmarkit.itmedia.co.jp/ait/articles/2112/06/news026.html\n",
      "機械学習を学び、実験できる無料サービス「Amazon SageMaker Studio Lab」プレビュー版が発表\n",
      "https://atmarkit.itmedia.co.jp/ait/articles/2112/03/news133.html\n",
      "「思ったよりもコストが削減できなかった」　IDCが国内クラウドに関する調査結果を発表\n",
      "https://atmarkit.itmedia.co.jp/ait/articles/2112/03/news032.html\n",
      "次世代IDEを兼ねる軽量エディタ「JetBrains Fleet」が発表\n",
      "https://atmarkit.itmedia.co.jp/ait/articles/2112/02/news112.html\n",
      "AWSの発表したプライベート無線サービス「AWS Private 5G」とは？\n",
      "https://atmarkit.itmedia.co.jp/ait/articles/2112/02/news057.html\n",
      "DX推進担当者は「セキュリティ戦略が曖昧なこと」を懸念している　トレンドマイクロがセキュリティに関する調査結果を発表\n",
      "https://atmarkit.itmedia.co.jp/ait/articles/2112/02/news033.html\n",
      "最も勢いのあるプログラミング言語は？\n",
      "https://atmarkit.itmedia.co.jp/ait/articles/2112/01/news135.html\n"
     ]
    }
   ],
   "source": [
    "links = soup.find_all(\"div\",class_=\"colBoxTitle\")\n",
    "for li in links:\n",
    "    #print(li)\n",
    "    l = li.find(\"a\")\n",
    "    if l != None: #liに実態があれば\n",
    "        url = l.get(\"href\")\n",
    "        title = li.text.replace( '\\n' , '' )#何故か改行が入ってしまってる場合がある。\n",
    "        print(title)\n",
    "        print(url)"
   ]
  },
  {
   "cell_type": "code",
   "execution_count": null,
   "metadata": {},
   "outputs": [],
   "source": []
  },
  {
   "cell_type": "code",
   "execution_count": 1,
   "metadata": {},
   "outputs": [],
   "source": [
    "#https://ainow.ai/new/\n",
    "\n",
    "from urllib import request  # urllib.requestモジュールをインポート\n",
    "from bs4 import BeautifulSoup  # BeautifulSoupクラスをインポート\n",
    "\n",
    "url = \"https://ainow.ai/new/\"\n",
    "response = request.urlopen(url)\n",
    "soup = BeautifulSoup(response)\n",
    "response.close()"
   ]
  },
  {
   "cell_type": "code",
   "execution_count": 21,
   "metadata": {},
   "outputs": [],
   "source": [
    "#soup"
   ]
  },
  {
   "cell_type": "code",
   "execution_count": 23,
   "metadata": {},
   "outputs": [
    {
     "name": "stdout",
     "output_type": "stream",
     "text": [
      "国内メガバンク初｜みずほ銀行がキャッシュカードの再配送受付を自動化\n",
      "https://ainow.ai/2021/12/22/261379/\n",
      "Kaggleとは？｜概要や始め方、おすすめ書籍まで紹介\n",
      "https://ainow.ai/2021/12/22/261327/\n",
      "人間にしかできないこと一覧｜人間の能力とAIの能力を比較して解説！\n",
      "https://ainow.ai/2021/12/21/261260/\n",
      "【Michael Black氏エッセー】31年間のICCVを振り返って\n",
      "https://ainow.ai/2021/12/21/260758/\n",
      "先週のAI関連人気ツイートTOP20！【2021/12/20更新】\n",
      "https://ainow.ai/2021/12/20/261309/\n",
      "AIの略語って何？AI歴史やできることこれからの姿など解説！\n",
      "https://ainow.ai/2021/12/17/261253/\n",
      "GPT-4は、GPT-3の500倍となる100兆個のパラメータを持つだろう\n",
      "https://ainow.ai/2021/12/17/260542/\n",
      "AIを学べるスクールおすすめ5選｜メリット・デメリット、選び方まで紹介\n",
      "https://ainow.ai/2021/12/16/261248/\n",
      "日本企業はガバナンスへの意識が欠けている｜デロイトトーマツ 森氏が語るガバナンスと戦略的AI活用の重要性\n",
      "https://ainow.ai/2021/12/16/261129/\n",
      "【無料トライアル公開中(~2021/12/31)】世界最速級推論エンジンSoftNeuroにおける高速化手法\n",
      "https://ainow.ai/2021/12/15/261177/\n",
      "DX事業のポイントとは？｜推進手順や使われる技術、促進ツールも紹介！\n",
      "https://ainow.ai/2021/12/15/260754/\n",
      "AI家庭用ロボットのタイプ別おすすめ製品10選｜選び方まで詳しく紹介！\n",
      "https://ainow.ai/2021/12/14/261041/\n",
      "データサイエンティストを増員すべきではない理由\n",
      "https://ainow.ai/2021/12/14/260437/\n",
      "先週のAI関連人気ツイートTOP20！【2021/12/13更新】\n",
      "https://ainow.ai/2021/12/13/261208/\n",
      "DXのためのデータ活用法-活用までの5ステップや活用事例を徹底解説\n",
      "https://ainow.ai/2021/12/13/261143/\n",
      "AIボイスチェンジャーとは？おすすめのサービスから使い方まで解説！\n",
      "https://ainow.ai/2021/12/13/261038/\n",
      "AIを活用した顔診断サイト・アプリおすすめ8選を紹介！\n",
      "https://ainow.ai/2021/12/10/261097/\n",
      "物流DXはハードルが高い？５分でわかる定義から導入まで\n",
      "https://ainow.ai/2021/12/09/261086/\n",
      "DX criteria｜概要から評価基準・結果の活用方法まで解説\n",
      "https://ainow.ai/2021/12/09/260346/\n",
      "日本のDX推進状況はいかに｜世界のDXと日本を比較\n",
      "https://ainow.ai/2021/12/08/260637/\n"
     ]
    }
   ],
   "source": [
    "#target class : article_title\n",
    "ti = soup.find_all(\"div\",class_=\"article_title\")\n",
    "ur = soup.find_all(\"a\",class_=\"article_link\")\n",
    "\n",
    "#print(ti)\n",
    "#print(ur)\n",
    "\n",
    "for i in range(len(ti)):\n",
    "    t = ti[i].find(\"h2\")\n",
    "    title = t.text\n",
    "    print(title)\n",
    "    url = ur[i].get(\"href\")\n",
    "    print(url)"
   ]
  },
  {
   "cell_type": "code",
   "execution_count": null,
   "metadata": {},
   "outputs": [],
   "source": []
  },
  {
   "cell_type": "code",
   "execution_count": null,
   "metadata": {},
   "outputs": [],
   "source": []
  },
  {
   "cell_type": "code",
   "execution_count": null,
   "metadata": {},
   "outputs": [],
   "source": []
  }
 ],
 "metadata": {
  "kernelspec": {
   "display_name": "Python 3",
   "language": "python",
   "name": "python3"
  },
  "language_info": {
   "codemirror_mode": {
    "name": "ipython",
    "version": 3
   },
   "file_extension": ".py",
   "mimetype": "text/x-python",
   "name": "python",
   "nbconvert_exporter": "python",
   "pygments_lexer": "ipython3",
   "version": "3.8.5"
  }
 },
 "nbformat": 4,
 "nbformat_minor": 4
}
