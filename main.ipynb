{
 "cells": [
  {
   "cell_type": "code",
   "execution_count": 1,
   "metadata": {},
   "outputs": [
    {
     "name": "stdout",
     "output_type": "stream",
     "text": [
      "['サイバートラストが「RHEL 9」を基にした「MIRACLE LINUX 9」を無償で提供', 'Microsoft Research、バグを発見、修正するためのディープラーニングモデル「BugLab」を開発', '約6割の企業が「従業員のエンゲージメント・帰属意識」に課題を抱えている\\u3000エンワールド・ジャパンがリモートワークに関する調査結果発表', '約半数が「自分は健康だと思わない」と回答\\u3000Lboseがフリーランスの健康に関する調査結果を発表', 'GitHubに新しいコード検索機能が登場', 'IPAが「Apache Log4j脆弱性」の暫定回避方法を紹介', '1位は「デンマーク」\\u3000早稲田大学が「世界デジタル政府ランキング2021」を発表', '4人に1人が「ルール違反と認識しつつ、パスワードを使い回している」\\u3000IPAがセキュリティ調査の結果を発表', 'GitHubは開発者の生産性向上に、どの程度役立っているのか', '最も気になるリモートワークの課題は「運動不足」\\u3000paizaがリモートワークに関する調査結果を発表', '日本、米国、英国の「コロナ禍のセキュリティ対策」の比較結果を発表\\u3000SecureAge', '約6割が「プログラミング学習を始めて3カ月以内に挫折を経験」\\u3000initがプログラミング学習に関して調査', '次のWi-Fiはどうなる？\\u3000IoTでの利用拡大を狙う', '「CAPTCHAを通過した人だけをだます」フィッシングサイトも\\u3000Palo Alto Networksが2021年のサイバー攻撃の振り返りを発表', '機械学習を学び、実験できる無料サービス「Amazon SageMaker Studio Lab」プレビュー版が発表', '「思ったよりもコストが削減できなかった」\\u3000IDCが国内クラウドに関する調査結果を発表', '次世代IDEを兼ねる軽量エディタ「JetBrains Fleet」が発表', 'AWSの発表したプライベート無線サービス「AWS Private 5G」とは？', 'DX推進担当者は「セキュリティ戦略が曖昧なこと」を懸念している\\u3000トレンドマイクロがセキュリティに関する調査結果を発表', '最も勢いのあるプログラミング言語は？']\n",
      "['https://atmarkit.itmedia.co.jp/ait/articles/2112/17/news040.html', 'https://atmarkit.itmedia.co.jp/ait/articles/2112/16/news135.html', 'https://atmarkit.itmedia.co.jp/ait/articles/2112/16/news041.html', 'https://atmarkit.itmedia.co.jp/ait/articles/2112/15/news046.html', 'https://atmarkit.itmedia.co.jp/ait/articles/2112/13/news078.html', 'https://atmarkit.itmedia.co.jp/ait/articles/2112/14/news035.html', 'https://atmarkit.itmedia.co.jp/ait/articles/2112/13/news039.html', 'https://atmarkit.itmedia.co.jp/ait/articles/2112/10/news046.html', 'https://atmarkit.itmedia.co.jp/ait/articles/2112/09/news137.html', 'https://atmarkit.itmedia.co.jp/ait/articles/2112/09/news033.html', 'https://atmarkit.itmedia.co.jp/ait/articles/2112/08/news032.html', 'https://atmarkit.itmedia.co.jp/ait/articles/2112/07/news038.html', 'https://atmarkit.itmedia.co.jp/ait/articles/2112/06/news121.html', 'https://atmarkit.itmedia.co.jp/ait/articles/2112/06/news026.html', 'https://atmarkit.itmedia.co.jp/ait/articles/2112/03/news133.html', 'https://atmarkit.itmedia.co.jp/ait/articles/2112/03/news032.html', 'https://atmarkit.itmedia.co.jp/ait/articles/2112/02/news112.html', 'https://atmarkit.itmedia.co.jp/ait/articles/2112/02/news057.html', 'https://atmarkit.itmedia.co.jp/ait/articles/2112/02/news033.html', 'https://atmarkit.itmedia.co.jp/ait/articles/2112/01/news135.html']\n"
     ]
    },
    {
     "name": "stderr",
     "output_type": "stream",
     "text": [
      "C:\\Users\\hitom\\OneDrive\\ドキュメント\\Github\\satobot-crawler-open\\crawler\\atmarkit.py:10: GuessedAtParserWarning: No parser was explicitly specified, so I'm using the best available HTML parser for this system (\"lxml\"). This usually isn't a problem, but if you run this code on another system, or in a different virtual environment, it may use a different parser and behave differently.\n",
      "\n",
      "The code that caused this warning is on line 10 of the file C:\\Users\\hitom\\OneDrive\\ドキュメント\\Github\\satobot-crawler-open\\crawler\\atmarkit.py. To get rid of this warning, pass the additional argument 'features=\"lxml\"' to the BeautifulSoup constructor.\n",
      "\n",
      "  soup = BeautifulSoup(response)\n"
     ]
    }
   ],
   "source": [
    "#別のpythonからcrawlerのpythonを呼び出して使う\n",
    "# from フォルダ名 import pythonファイル名\n",
    "\n",
    "from crawler import atmarkit\n",
    "\n",
    "titles, urls = atmarkit.getLatestLinks()\n",
    "\n",
    "print(titles)\n",
    "print(urls)"
   ]
  },
  {
   "cell_type": "code",
   "execution_count": null,
   "metadata": {},
   "outputs": [],
   "source": []
  }
 ],
 "metadata": {
  "kernelspec": {
   "display_name": "Python 3",
   "language": "python",
   "name": "python3"
  },
  "language_info": {
   "codemirror_mode": {
    "name": "ipython",
    "version": 3
   },
   "file_extension": ".py",
   "mimetype": "text/x-python",
   "name": "python",
   "nbconvert_exporter": "python",
   "pygments_lexer": "ipython3",
   "version": "3.8.5"
  }
 },
 "nbformat": 4,
 "nbformat_minor": 4
}
