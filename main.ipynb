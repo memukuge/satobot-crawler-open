{
 "cells": [
  {
   "cell_type": "code",
   "execution_count": 1,
   "metadata": {},
   "outputs": [
    {
     "name": "stdout",
     "output_type": "stream",
     "text": [
      "['サイバートラストが「RHEL 9」を基にした「MIRACLE LINUX 9」を無償で提供', 'Microsoft Research、バグを発見、修正するためのディープラーニングモデル「BugLab」を開発', '約6割の企業が「従業員のエンゲージメント・帰属意識」に課題を抱えている\\u3000エンワールド・ジャパンがリモートワークに関する調査結果発表', '約半数が「自分は健康だと思わない」と回答\\u3000Lboseがフリーランスの健康に関する調査結果を発表', 'GitHubに新しいコード検索機能が登場', 'IPAが「Apache Log4j脆弱性」の暫定回避方法を紹介', '1位は「デンマーク」\\u3000早稲田大学が「世界デジタル政府ランキング2021」を発表', '4人に1人が「ルール違反と認識しつつ、パスワードを使い回している」\\u3000IPAがセキュリティ調査の結果を発表', 'GitHubは開発者の生産性向上に、どの程度役立っているのか', '最も気になるリモートワークの課題は「運動不足」\\u3000paizaがリモートワークに関する調査結果を発表', '日本、米国、英国の「コロナ禍のセキュリティ対策」の比較結果を発表\\u3000SecureAge', '約6割が「プログラミング学習を始めて3カ月以内に挫折を経験」\\u3000initがプログラミング学習に関して調査', '次のWi-Fiはどうなる？\\u3000IoTでの利用拡大を狙う', '「CAPTCHAを通過した人だけをだます」フィッシングサイトも\\u3000Palo Alto Networksが2021年のサイバー攻撃の振り返りを発表', '機械学習を学び、実験できる無料サービス「Amazon SageMaker Studio Lab」プレビュー版が発表', '「思ったよりもコストが削減できなかった」\\u3000IDCが国内クラウドに関する調査結果を発表', '次世代IDEを兼ねる軽量エディタ「JetBrains Fleet」が発表', 'AWSの発表したプライベート無線サービス「AWS Private 5G」とは？', 'DX推進担当者は「セキュリティ戦略が曖昧なこと」を懸念している\\u3000トレンドマイクロがセキュリティに関する調査結果を発表', '最も勢いのあるプログラミング言語は？']\n",
      "['https://atmarkit.itmedia.co.jp/ait/articles/2112/17/news040.html', 'https://atmarkit.itmedia.co.jp/ait/articles/2112/16/news135.html', 'https://atmarkit.itmedia.co.jp/ait/articles/2112/16/news041.html', 'https://atmarkit.itmedia.co.jp/ait/articles/2112/15/news046.html', 'https://atmarkit.itmedia.co.jp/ait/articles/2112/13/news078.html', 'https://atmarkit.itmedia.co.jp/ait/articles/2112/14/news035.html', 'https://atmarkit.itmedia.co.jp/ait/articles/2112/13/news039.html', 'https://atmarkit.itmedia.co.jp/ait/articles/2112/10/news046.html', 'https://atmarkit.itmedia.co.jp/ait/articles/2112/09/news137.html', 'https://atmarkit.itmedia.co.jp/ait/articles/2112/09/news033.html', 'https://atmarkit.itmedia.co.jp/ait/articles/2112/08/news032.html', 'https://atmarkit.itmedia.co.jp/ait/articles/2112/07/news038.html', 'https://atmarkit.itmedia.co.jp/ait/articles/2112/06/news121.html', 'https://atmarkit.itmedia.co.jp/ait/articles/2112/06/news026.html', 'https://atmarkit.itmedia.co.jp/ait/articles/2112/03/news133.html', 'https://atmarkit.itmedia.co.jp/ait/articles/2112/03/news032.html', 'https://atmarkit.itmedia.co.jp/ait/articles/2112/02/news112.html', 'https://atmarkit.itmedia.co.jp/ait/articles/2112/02/news057.html', 'https://atmarkit.itmedia.co.jp/ait/articles/2112/02/news033.html', 'https://atmarkit.itmedia.co.jp/ait/articles/2112/01/news135.html']\n"
     ]
    },
    {
     "name": "stderr",
     "output_type": "stream",
     "text": [
      "C:\\Users\\hitom\\OneDrive\\ドキュメント\\Github\\satobot-crawler-open\\crawler\\atmarkit.py:10: GuessedAtParserWarning: No parser was explicitly specified, so I'm using the best available HTML parser for this system (\"lxml\"). This usually isn't a problem, but if you run this code on another system, or in a different virtual environment, it may use a different parser and behave differently.\n",
      "\n",
      "The code that caused this warning is on line 10 of the file C:\\Users\\hitom\\OneDrive\\ドキュメント\\Github\\satobot-crawler-open\\crawler\\atmarkit.py. To get rid of this warning, pass the additional argument 'features=\"lxml\"' to the BeautifulSoup constructor.\n",
      "\n",
      "  soup = BeautifulSoup(response)\n"
     ]
    }
   ],
   "source": [
    "#別のpythonからcrawlerのpythonを呼び出して使う\n",
    "# from フォルダ名 import pythonファイル名\n",
    "\n",
    "from crawler import atmarkit\n",
    "\n",
    "titles, urls = atmarkit.getLatestLinks()\n",
    "\n",
    "print(titles)\n",
    "print(urls)"
   ]
  },
  {
   "cell_type": "code",
   "execution_count": 2,
   "metadata": {},
   "outputs": [
    {
     "name": "stdout",
     "output_type": "stream",
     "text": [
      "['国内メガバンク初｜みずほ銀行がキャッシュカードの再配送受付を自動化', 'Kaggleとは？｜概要や始め方、おすすめ書籍まで紹介', '人間にしかできないこと一覧｜人間の能力とAIの能力を比較して解説！', '【Michael Black氏エッセー】31年間のICCVを振り返って', '先週のAI関連人気ツイートTOP20！【2021/12/20更新】', 'AIの略語って何？AI歴史やできることこれからの姿など解説！', 'GPT-4は、GPT-3の500倍となる100兆個のパラメータを持つだろう', 'AIを学べるスクールおすすめ5選｜メリット・デメリット、選び方まで紹介', '日本企業はガバナンスへの意識が欠けている｜デロイトトーマツ 森氏が語るガバナンスと戦略的AI活用の重要性', '【無料トライアル公開中(~2021/12/31)】世界最速級推論エンジンSoftNeuroにおける高速化手法', 'DX事業のポイントとは？｜推進手順や使われる技術、促進ツールも紹介！', 'AI家庭用ロボットのタイプ別おすすめ製品10選｜選び方まで詳しく紹介！', 'データサイエンティストを増員すべきではない理由', '先週のAI関連人気ツイートTOP20！【2021/12/13更新】', 'DXのためのデータ活用法-活用までの5ステップや活用事例を徹底解説', 'AIボイスチェンジャーとは？おすすめのサービスから使い方まで解説！', 'AIを活用した顔診断サイト・アプリおすすめ8選を紹介！', '物流DXはハードルが高い？５分でわかる定義から導入まで', 'DX criteria｜概要から評価基準・結果の活用方法まで解説', '日本のDX推進状況はいかに｜世界のDXと日本を比較']\n",
      "['https://ainow.ai/2021/12/22/261379/', 'https://ainow.ai/2021/12/22/261327/', 'https://ainow.ai/2021/12/21/261260/', 'https://ainow.ai/2021/12/21/260758/', 'https://ainow.ai/2021/12/20/261309/', 'https://ainow.ai/2021/12/17/261253/', 'https://ainow.ai/2021/12/17/260542/', 'https://ainow.ai/2021/12/16/261248/', 'https://ainow.ai/2021/12/16/261129/', 'https://ainow.ai/2021/12/15/261177/', 'https://ainow.ai/2021/12/15/260754/', 'https://ainow.ai/2021/12/14/261041/', 'https://ainow.ai/2021/12/14/260437/', 'https://ainow.ai/2021/12/13/261208/', 'https://ainow.ai/2021/12/13/261143/', 'https://ainow.ai/2021/12/13/261038/', 'https://ainow.ai/2021/12/10/261097/', 'https://ainow.ai/2021/12/09/261086/', 'https://ainow.ai/2021/12/09/260346/', 'https://ainow.ai/2021/12/08/260637/']\n"
     ]
    },
    {
     "name": "stderr",
     "output_type": "stream",
     "text": [
      "C:\\Users\\hitom\\OneDrive\\ドキュメント\\Github\\satobot-crawler-open\\crawler\\ainow.py:11: GuessedAtParserWarning: No parser was explicitly specified, so I'm using the best available HTML parser for this system (\"lxml\"). This usually isn't a problem, but if you run this code on another system, or in a different virtual environment, it may use a different parser and behave differently.\n",
      "\n",
      "The code that caused this warning is on line 11 of the file C:\\Users\\hitom\\OneDrive\\ドキュメント\\Github\\satobot-crawler-open\\crawler\\ainow.py. To get rid of this warning, pass the additional argument 'features=\"lxml\"' to the BeautifulSoup constructor.\n",
      "\n",
      "  soup = BeautifulSoup(response)\n"
     ]
    }
   ],
   "source": [
    "from crawler import ainow\n",
    "\n",
    "titles, urls = ainow.getLatestLinks()\n",
    "\n",
    "print(titles)\n",
    "print(urls)"
   ]
  },
  {
   "cell_type": "code",
   "execution_count": null,
   "metadata": {},
   "outputs": [],
   "source": []
  }
 ],
 "metadata": {
  "kernelspec": {
   "display_name": "Python 3",
   "language": "python",
   "name": "python3"
  },
  "language_info": {
   "codemirror_mode": {
    "name": "ipython",
    "version": 3
   },
   "file_extension": ".py",
   "mimetype": "text/x-python",
   "name": "python",
   "nbconvert_exporter": "python",
   "pygments_lexer": "ipython3",
   "version": "3.8.5"
  }
 },
 "nbformat": 4,
 "nbformat_minor": 4
}
